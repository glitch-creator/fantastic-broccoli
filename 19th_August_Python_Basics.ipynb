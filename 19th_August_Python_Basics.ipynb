{
 "cells": [
  {
   "cell_type": "code",
   "execution_count": 31,
   "id": "3014c36b",
   "metadata": {},
   "outputs": [],
   "source": [
    "#Assignment 1 Topic : Python Basic Variable\n",
    "#1: Swappping of two variables \n",
    "# Declaration of variables of value x and y\n",
    "x = 12\n",
    "y = 13"
   ]
  },
  {
   "cell_type": "code",
   "execution_count": 32,
   "id": "823c7032",
   "metadata": {},
   "outputs": [],
   "source": [
    "#Code to swap two variable i.e value of x and y\n",
    "x, y = y, x"
   ]
  },
  {
   "cell_type": "code",
   "execution_count": 33,
   "id": "cbb089d8",
   "metadata": {},
   "outputs": [
    {
     "name": "stdout",
     "output_type": "stream",
     "text": [
      "Value of x :  13\n",
      "Value of y :  12\n"
     ]
    }
   ],
   "source": [
    "#Printing the new value of x and y\n",
    "print('Value of x : ', x)\n",
    "print('Value of y : ', y)"
   ]
  },
  {
   "cell_type": "code",
   "execution_count": 34,
   "id": "16d4db33",
   "metadata": {},
   "outputs": [
    {
     "name": "stdout",
     "output_type": "stream",
     "text": [
      "Please enter the height of rectangle : 8\n",
      "Please enter the width of rectangle : 9\n"
     ]
    }
   ],
   "source": [
    "#2: Calculate the area of rectangle with input as user\n",
    "#Taking input from user to calculate area of rectangle\n",
    "#Taking height of rectangle as input\n",
    "height = int(input(\"Please enter the height of rectangle : \"))\n",
    "\n",
    "#Taking width of rectangle as input\n",
    "width = int(input(\"Please enter the width of rectangle : \"))"
   ]
  },
  {
   "cell_type": "code",
   "execution_count": 35,
   "id": "3e424627",
   "metadata": {},
   "outputs": [
    {
     "name": "stdout",
     "output_type": "stream",
     "text": [
      "Area of rectangle is 72\n"
     ]
    }
   ],
   "source": [
    "#Formula to calculate area of rectangle = height * width\n",
    "area = height * width\n",
    "#printing the area of rectangle\n",
    "print('Area of rectangle is',area)"
   ]
  },
  {
   "cell_type": "code",
   "execution_count": 36,
   "id": "d0126ade",
   "metadata": {},
   "outputs": [
    {
     "name": "stdout",
     "output_type": "stream",
     "text": [
      "Please enter the temprature in Celsius :103.5\n"
     ]
    }
   ],
   "source": [
    "# 3: Converting the temprature into Celsius to Fahrenheit\n",
    "#taking temprature in celsius from user\n",
    "temp_celsius = float(input('Please enter the temprature in Celsius :'))"
   ]
  },
  {
   "cell_type": "code",
   "execution_count": 37,
   "id": "522a866e",
   "metadata": {},
   "outputs": [],
   "source": [
    "#formula for converting temp from celsius to Fahrenhiet\n",
    "temp_fahrenheit = (temp_celsius * 9/5) + 32"
   ]
  },
  {
   "cell_type": "code",
   "execution_count": 38,
   "id": "d884dd3d",
   "metadata": {},
   "outputs": [
    {
     "name": "stdout",
     "output_type": "stream",
     "text": [
      "Temprature in Fahrenheit:  218.3\n"
     ]
    }
   ],
   "source": [
    "#printing the converted fahrenheit temprature\n",
    "print('Temprature in Fahrenheit: ',temp_fahrenheit)"
   ]
  },
  {
   "cell_type": "code",
   "execution_count": 39,
   "id": "40214d64",
   "metadata": {},
   "outputs": [
    {
     "name": "stdout",
     "output_type": "stream",
     "text": [
      "Please enter your name :shahalam\n"
     ]
    }
   ],
   "source": [
    "#Topic : String Based Questions\n",
    "#1 : Take string as input and print length of that string\n",
    "#Taking name as input (by default we take user input as string)\n",
    "name = input('Please enter your name :')"
   ]
  },
  {
   "cell_type": "code",
   "execution_count": 40,
   "id": "8715aef5",
   "metadata": {},
   "outputs": [
    {
     "data": {
      "text/plain": [
       "8"
      ]
     },
     "execution_count": 40,
     "metadata": {},
     "output_type": "execute_result"
    }
   ],
   "source": [
    "#Printing the lenght of name\n",
    "len(name)"
   ]
  },
  {
   "cell_type": "code",
   "execution_count": 41,
   "id": "1f653677",
   "metadata": {},
   "outputs": [
    {
     "name": "stdout",
     "output_type": "stream",
     "text": [
      "Please enter the sentence: thank you\n"
     ]
    }
   ],
   "source": [
    "# taking input from the user\n",
    "sent = input('Please enter the sentence: ')\n",
    "\n",
    "# initialize a counter for vowels\n",
    "count = 0"
   ]
  },
  {
   "cell_type": "code",
   "execution_count": 42,
   "id": "2f3d996f",
   "metadata": {},
   "outputs": [],
   "source": [
    "sent = sent.lower()\n",
    "vowels = {'a', 'e', 'i', 'o', 'u'}   "
   ]
  },
  {
   "cell_type": "code",
   "execution_count": 43,
   "id": "b69437ba",
   "metadata": {},
   "outputs": [],
   "source": [
    "# count the number of vowels in the string\n",
    "for char in sent:\n",
    "    if char in vowels:\n",
    "        count += 1"
   ]
  },
  {
   "cell_type": "code",
   "execution_count": 44,
   "id": "fa0e8463",
   "metadata": {},
   "outputs": [
    {
     "name": "stdout",
     "output_type": "stream",
     "text": [
      "Number of vowels in the string: 3\n"
     ]
    }
   ],
   "source": [
    "# print the number of vowels in the string\n",
    "print(\"Number of vowels in the string:\", count)"
   ]
  },
  {
   "cell_type": "code",
   "execution_count": 45,
   "id": "38358900",
   "metadata": {},
   "outputs": [],
   "source": [
    "#3: reverse the order of characters using string slicing\n",
    "# input string\n",
    "input_string = \"Hello, Have a nice day\""
   ]
  },
  {
   "cell_type": "code",
   "execution_count": 46,
   "id": "18097dc9",
   "metadata": {},
   "outputs": [],
   "source": [
    "# reversed string using slicing\n",
    "reversed_string = input_string[::-1]"
   ]
  },
  {
   "cell_type": "code",
   "execution_count": 47,
   "id": "c053eb42",
   "metadata": {},
   "outputs": [
    {
     "name": "stdout",
     "output_type": "stream",
     "text": [
      "yad ecin a evaH ,olleH\n"
     ]
    }
   ],
   "source": [
    "# print the reversed string\n",
    "print(reversed_string)"
   ]
  },
  {
   "cell_type": "code",
   "execution_count": 48,
   "id": "72b7a0b5",
   "metadata": {},
   "outputs": [
    {
     "name": "stdout",
     "output_type": "stream",
     "text": [
      "Enter a string to check it is palindrome: level\n"
     ]
    }
   ],
   "source": [
    "#4 : Palindrone\n",
    "# take input from the user\n",
    "pal = input(\"Enter a string to check it is palindrome: \")"
   ]
  },
  {
   "cell_type": "code",
   "execution_count": 49,
   "id": "594e62d0",
   "metadata": {},
   "outputs": [],
   "source": [
    "# convertiing the string to lowercase for case-insensitive comparison\n",
    "pal = pal.lower()"
   ]
  },
  {
   "cell_type": "code",
   "execution_count": 50,
   "id": "0070e8f3",
   "metadata": {},
   "outputs": [],
   "source": [
    "# remove non-alphanumeric characters from the string\n",
    "pal = ''.join(char for char in pal if char.isalnum())"
   ]
  },
  {
   "cell_type": "code",
   "execution_count": 51,
   "id": "28695e28",
   "metadata": {},
   "outputs": [
    {
     "name": "stdout",
     "output_type": "stream",
     "text": [
      "The string is a palindrome.\n"
     ]
    }
   ],
   "source": [
    "# check if the string is equal to its reverse\n",
    "if pal == pal[::-1]:\n",
    "    print(\"The string is a palindrome.\")\n",
    "else:\n",
    "    print(\"The string is not a palindrome.\")"
   ]
  },
  {
   "cell_type": "code",
   "execution_count": 52,
   "id": "52d9964f",
   "metadata": {},
   "outputs": [
    {
     "name": "stdout",
     "output_type": "stream",
     "text": [
      "Enter a string: hello i am a data scientist\n"
     ]
    }
   ],
   "source": [
    "#5 : removes all the spaces from a stirng.\n",
    "# take input from the user\n",
    "rem_spaces = input(\"Enter a string: \")"
   ]
  },
  {
   "cell_type": "code",
   "execution_count": 53,
   "id": "fd1336a2",
   "metadata": {},
   "outputs": [],
   "source": [
    "# remove spaces from the string\n",
    "string_without_spaces = rem_spaces.replace(\" \", \"\")"
   ]
  },
  {
   "cell_type": "code",
   "execution_count": 54,
   "id": "8dd79c38",
   "metadata": {},
   "outputs": [
    {
     "name": "stdout",
     "output_type": "stream",
     "text": [
      "Modified string without spaces: helloiamadatascientist\n"
     ]
    }
   ],
   "source": [
    "# print the modified string without spaces\n",
    "print(\"Modified string without spaces:\", string_without_spaces)"
   ]
  }
 ],
 "metadata": {
  "kernelspec": {
   "display_name": "Python 3 (ipykernel)",
   "language": "python",
   "name": "python3"
  },
  "language_info": {
   "codemirror_mode": {
    "name": "ipython",
    "version": 3
   },
   "file_extension": ".py",
   "mimetype": "text/x-python",
   "name": "python",
   "nbconvert_exporter": "python",
   "pygments_lexer": "ipython3",
   "version": "3.9.12"
  }
 },
 "nbformat": 4,
 "nbformat_minor": 5
}
